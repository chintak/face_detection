{
 "cells": [
  {
   "cell_type": "code",
   "execution_count": null,
   "metadata": {
    "collapsed": false
   },
   "outputs": [],
   "source": [
    "%load_ext autoreload\n",
    "%autoreload 2"
   ]
  },
  {
   "cell_type": "code",
   "execution_count": null,
   "metadata": {
    "collapsed": true
   },
   "outputs": [],
   "source": [
    "import sys\n",
    "sys.path.insert(0, '../')"
   ]
  },
  {
   "cell_type": "code",
   "execution_count": null,
   "metadata": {
    "collapsed": true
   },
   "outputs": [],
   "source": [
    "from __future__ import division\n",
    "import os\n",
    "import numpy as np\n",
    "import pandas as pd\n",
    "from skimage.io import imread\n",
    "from skimage.color import gray2rgb\n",
    "import cv2\n",
    "from pandas import read_csv\n",
    "import matplotlib.pyplot as plt\n",
    "import glob"
   ]
  },
  {
   "cell_type": "code",
   "execution_count": null,
   "metadata": {
    "collapsed": false
   },
   "outputs": [],
   "source": [
    "%matplotlib inline"
   ]
  },
  {
   "cell_type": "markdown",
   "metadata": {},
   "source": [
    "## Theano loss function - SmoothL1 and IoU "
   ]
  },
  {
   "cell_type": "code",
   "execution_count": null,
   "metadata": {
    "collapsed": true
   },
   "outputs": [],
   "source": [
    "import theano\n",
    "import theano.tensor as T"
   ]
  },
  {
   "cell_type": "code",
   "execution_count": null,
   "metadata": {
    "collapsed": false
   },
   "outputs": [],
   "source": [
    "npr = np.random.random((10,4)).astype(np.float32)\n",
    "nta = np.random.random((10,4)).astype(np.float32)"
   ]
  },
  {
   "cell_type": "code",
   "execution_count": null,
   "metadata": {
    "collapsed": true
   },
   "outputs": [],
   "source": [
    "p = T.fmatrix('p')\n",
    "t = T.fmatrix('t')"
   ]
  },
  {
   "cell_type": "markdown",
   "metadata": {},
   "source": [
    "### SmoothL1 loss"
   ]
  },
  {
   "cell_type": "code",
   "execution_count": null,
   "metadata": {
    "collapsed": false
   },
   "outputs": [],
   "source": [
    "def ff(p, t):\n",
    "    c = T.abs_(p - t)\n",
    "    e = T.switch(T.lt(c, 1.), 0.5 * c * c, c - 0.5)\n",
    "    return T.mean(T.sum(e, axis=1))"
   ]
  },
  {
   "cell_type": "code",
   "execution_count": null,
   "metadata": {
    "collapsed": false
   },
   "outputs": [],
   "source": [
    "g = ff(p, t)"
   ]
  },
  {
   "cell_type": "code",
   "execution_count": null,
   "metadata": {
    "collapsed": false
   },
   "outputs": [],
   "source": [
    "f = theano.function(\n",
    "    inputs=[p, t],\n",
    "    outputs=g\n",
    ")"
   ]
  },
  {
   "cell_type": "code",
   "execution_count": null,
   "metadata": {
    "collapsed": false
   },
   "outputs": [],
   "source": [
    "nc = np.abs(npr - nta)\n",
    "td = f(npr, nta)\n",
    "print td"
   ]
  },
  {
   "cell_type": "code",
   "execution_count": null,
   "metadata": {
    "collapsed": false
   },
   "outputs": [],
   "source": [
    "T.grad(g, p)"
   ]
  },
  {
   "cell_type": "markdown",
   "metadata": {},
   "source": [
    "### IoU loss - Intersection over Union loss"
   ]
  },
  {
   "cell_type": "code",
   "execution_count": null,
   "metadata": {
    "collapsed": true
   },
   "outputs": [],
   "source": [
    "pn = np.array([[0.1, 0.1, 0.5, 0.8],\n",
    "               [0.1, 0.1, 0.2, 0.2]], dtype=np.float32)\n",
    "tn = np.array([[0.3, 0.5, 0.4, 0.9], \n",
    "               [0.3, 0.2, 0.7, 0.8]], dtype=np.float32)"
   ]
  },
  {
   "cell_type": "code",
   "execution_count": null,
   "metadata": {
    "collapsed": true
   },
   "outputs": [],
   "source": [
    "def hh(p, t):\n",
    "    hund = np.float32(100)\n",
    "    pt = (p * hund).astype(np.int32)\n",
    "    tt = (t * hund).astype(np.int32)\n",
    "    imp = np.zeros((pt.shape[0], 100, 100), dtype=np.uint8)\n",
    "    imt = np.zeros((tt.shape[0], 100, 100), dtype=np.uint8)\n",
    "    for i in range(pt.shape[0]):\n",
    "        imp[i, pt[i, 1]:pt[i, 3], pt[i, 0]:pt[i, 2]] = 1\n",
    "        imt[i, tt[i, 1]:tt[i, 3], tt[i, 0]:tt[i, 2]] = 1\n",
    "    intersection = np.logical_and(imp, imt).astype(np.float32).sum(axis=2).sum(axis=1)\n",
    "    union = np.logical_or(imp, imt).astype(np.float32).sum(axis=2).sum(axis=1)\n",
    "    loss = 1. - intersection / union\n",
    "    plt.imshow(imp[0, ...])\n",
    "    return loss\n",
    "\n",
    "hh(pn, tn)"
   ]
  },
  {
   "cell_type": "code",
   "execution_count": null,
   "metadata": {
    "collapsed": false
   },
   "outputs": [],
   "source": [
    "def gg(p, t):\n",
    "    tp, tt = p.reshape((p.shape[0], 2, 2)), t.reshape((t.shape[0], 2, 2))\n",
    "    overlaps = np.zeros_like(tp, dtype=np.float32)\n",
    "    \n",
    "    overlaps[:, 0, :] = np.maximum(tp[:, 0, :], tt[:, 0, :])\n",
    "    overlaps[:, 1, :] = np.minimum(tp[:, 1, :], tt[:, 1, :])\n",
    "    intersection = overlaps[:, 1, :] - overlaps[:, 0, :]\n",
    "    bool_overlap = np.min(intersection, axis=1) > 0\n",
    "    intersection = intersection[:, 0] * intersection[:, 1]\n",
    "    intersection[bool_overlap==False] == 0.\n",
    "    dims_p = tp[:, 1, :] - tp[:, 0, :]\n",
    "    areas_p = dims_p[:, 0] * dims_p[:, 1]\n",
    "    dims_t = tt[:, 1, :] - tt[:, 0, :]\n",
    "    areas_t = dims_t[:, 0] * dims_t[:, 1]\n",
    "    union = areas_p + areas_t - intersection\n",
    "    ratio = 1. - np.minimum(np.exp(np.log(np.abs(intersection)) - np.log(np.abs(union) + 1e-5)), 1.)\n",
    "#     no_overlap_penalty = 1. + np.abs(tp - tt).sum(axis=2).max(axis=1)\n",
    "    loss = ratio.copy()\n",
    "#     loss[bool_overlap==False] = no_overlap_penalty[bool_overlap==False]\n",
    "    return loss\n",
    "    print tp\n",
    "    print \"-\"\n",
    "    print tt\n",
    "    print \"-\"\n",
    "    print no_overlap_penalty\n",
    "    print no_overlap_penalty\n",
    "    print \"overlap\"\n",
    "    print overlaps\n",
    "    print \"int/union\"\n",
    "    print intersection, union\n",
    "    print \"bool overlap\"\n",
    "    print bool_overlap\n",
    "    print \"loss\"\n",
    "    print loss\n",
    "    \n",
    "\n",
    "gg(pn, tn)"
   ]
  },
  {
   "cell_type": "code",
   "execution_count": null,
   "metadata": {
    "collapsed": false
   },
   "outputs": [],
   "source": [
    "tp, tt = p.reshape((p.shape[0], 2, 2)), t.reshape((t.shape[0], 2, 2))\n",
    "overlaps_t0 = T.maximum(tp[:, 0, :], tt[:, 0, :])\n",
    "overlaps_t1 = T.minimum(tp[:, 1, :], tt[:, 1, :])\n",
    "intersection = overlaps_t1 - overlaps_t0\n",
    "bool_overlap = T.min(intersection, axis=1) > 0\n",
    "intersection = intersection[:, 0] * intersection[:, 1]\n",
    "intersection[bool_overlap==False] == 0.\n",
    "dims_p = tp[:, 1, :] - tp[:, 0, :]\n",
    "areas_p = dims_p[:, 0] * dims_p[:, 1]\n",
    "dims_t = tt[:, 1, :] - tt[:, 0, :]\n",
    "areas_t = dims_t[:, 0] * dims_t[:, 1]\n",
    "union = areas_p + areas_t - intersection\n",
    "loss = 1. - T.minimum(T.exp(T.log(T.abs_(intersection)) - T.log(T.abs_(union) + np.float32(1e-5))), np.float32(1.))\n",
    "print \"done\"\n",
    "\n",
    "theano_iou = theano.function(\n",
    "    inputs=[p, t],\n",
    "    outputs=loss\n",
    ")"
   ]
  },
  {
   "cell_type": "code",
   "execution_count": null,
   "metadata": {
    "collapsed": false
   },
   "outputs": [],
   "source": [
    "theano_iou(pn, tn)"
   ]
  },
  {
   "cell_type": "code",
   "execution_count": null,
   "metadata": {
    "collapsed": false,
    "scrolled": true
   },
   "outputs": [],
   "source": [
    "def theano_hh(p, t):\n",
    "    hund = np.float32(100)\n",
    "    pt = (p * hund).astype(np.int32)\n",
    "    tt = (t * hund).astype(np.int32)\n",
    "    imp = np.zeros((pt.shape[0], 100, 100), dtype=np.uint8)\n",
    "    imt = np.zeros((tt.shape[0], 100, 100), dtype=np.uint8)\n",
    "    for i in range(pt.shape[0]):\n",
    "        imp[i, pt[i, 1]:pt[i, 3], pt[i, 0]:pt[i, 2]] = 1\n",
    "        imt[i, tt[i, 1]:tt[i, 3], tt[i, 0]:tt[i, 2]] = 1\n",
    "    intersection = np.logical_and(imp, imt).astype(np.float32).sum(axis=2).sum(axis=1)\n",
    "    union = np.logical_or(imp, imt).astype(np.float32).sum(axis=2).sum(axis=1)\n",
    "    loss = 1. - intersection / union\n",
    "    return loss\n",
    "\n",
    "hh(pn, tn)"
   ]
  },
  {
   "cell_type": "code",
   "execution_count": null,
   "metadata": {
    "collapsed": true
   },
   "outputs": [],
   "source": []
  },
  {
   "cell_type": "code",
   "execution_count": null,
   "metadata": {
    "collapsed": false
   },
   "outputs": [],
   "source": [
    "z = tn.reshape((2, 2, 2))\n",
    "z[:, 0, :], z"
   ]
  },
  {
   "cell_type": "code",
   "execution_count": null,
   "metadata": {
    "collapsed": true
   },
   "outputs": [],
   "source": []
  },
  {
   "cell_type": "markdown",
   "metadata": {},
   "source": [
    "## Augmentation"
   ]
  },
  {
   "cell_type": "code",
   "execution_count": null,
   "metadata": {
    "collapsed": false
   },
   "outputs": [],
   "source": [
    "from utils import get_file_list\n",
    "import glob\n",
    "from train_val_split import read_facescrub_img_list\n",
    "from plotting import plot_face_bb"
   ]
  },
  {
   "cell_type": "markdown",
   "metadata": {},
   "source": [
    "### Train data split"
   ]
  },
  {
   "cell_type": "code",
   "execution_count": null,
   "metadata": {
    "collapsed": true
   },
   "outputs": [],
   "source": [
    "folder = '/media/shared/faceScrub/train_face_det/'\n",
    "path = folder\n",
    "actor_label_txt = '/media/shared/faceScrub/facescrub_actors.txt'\n",
    "actress_label_txt = '/media/shared/faceScrub/facescrub_actresses.txt'\n",
    "accept_pattern = '*/*.jpg'"
   ]
  },
  {
   "cell_type": "code",
   "execution_count": null,
   "metadata": {
    "collapsed": false
   },
   "outputs": [],
   "source": [
    "fnames, bboxes = read_facescrub_img_list(path, actor_label_txt, actress_label_txt, accept_pattern='*/*.jpg')"
   ]
  },
  {
   "cell_type": "code",
   "execution_count": null,
   "metadata": {
    "collapsed": false
   },
   "outputs": [],
   "source": [
    "len(fnames), len(bboxes)"
   ]
  },
  {
   "cell_type": "markdown",
   "metadata": {},
   "source": [
    "### Data augment"
   ]
  },
  {
   "cell_type": "code",
   "execution_count": null,
   "metadata": {
    "collapsed": true
   },
   "outputs": [],
   "source": [
    "train_csv = 'train.csv'"
   ]
  },
  {
   "cell_type": "code",
   "execution_count": null,
   "metadata": {
    "collapsed": false
   },
   "outputs": [],
   "source": [
    "train_df = read_csv(train_csv, sep='\\t')\n",
    "X = np.asarray(train_df['name'].as_matrix())\n",
    "y_str = train_df['bbox']\n",
    "y_l = map(lambda k: [np.float32(v)\n",
    "                     for v in k.split(',')], y_str)\n",
    "y = np.asarray(y_l)"
   ]
  },
  {
   "cell_type": "code",
   "execution_count": null,
   "metadata": {
    "collapsed": true
   },
   "outputs": [],
   "source": [
    "x_1 = X[1]\n",
    "y_1 = y[1, :]"
   ]
  },
  {
   "cell_type": "code",
   "execution_count": null,
   "metadata": {
    "collapsed": false
   },
   "outputs": [],
   "source": [
    "im = imread(x_1)\n",
    "plot_face_bb(im, y_1, scale=False, path=False)\n",
    "img = cv2.cvtColor(im, cv2.COLOR_RGB2BGR)"
   ]
  },
  {
   "cell_type": "code",
   "execution_count": null,
   "metadata": {
    "collapsed": true
   },
   "outputs": [],
   "source": [
    "img_size = (256, 256, 3)\n",
    "MAX_FACE_SIZE = 220\n",
    "MIN_FACE_SIZE = 64"
   ]
  },
  {
   "cell_type": "code",
   "execution_count": null,
   "metadata": {
    "collapsed": false
   },
   "outputs": [],
   "source": [
    "h0, w0, _ = img_size\n",
    "w1, h1, w2, h2 = y_1\n",
    "wc, hc = (y_1[0] + y_1[2]) / 2, (y_1[1] + y_1[3]) / 2\n",
    "face_width = (h2 - h1) / 2\n",
    "print \"Original center coords: (%.1f, %.1f)\" % (wc, hc)\n",
    "print \"Face coords: (%.1f, %.1f) (%.1f, %.1f) and face width: %.0f\" % (h1, w1, h2, w2, face_width * 2)"
   ]
  },
  {
   "cell_type": "code",
   "execution_count": null,
   "metadata": {
    "collapsed": false
   },
   "outputs": [],
   "source": [
    "rng = np.random.RandomState(seed=1234)"
   ]
  },
  {
   "cell_type": "code",
   "execution_count": null,
   "metadata": {
    "collapsed": false
   },
   "outputs": [],
   "source": [
    "# Possible scales of computation\n",
    "high_scale = MAX_FACE_SIZE/2/face_width\n",
    "low_scale = MIN_FACE_SIZE/2/face_width\n",
    "print \"Scales of computation: %.3f - %.3f\" % (low_scale, high_scale)\n",
    "\n",
    "scale_comp = rng.choice(np.arange(low_scale, high_scale, (high_scale-low_scale)/100), 1)[0]\n",
    "new_face_width = round(face_width * scale_comp)\n",
    "swc, shc = round(wc * scale_comp), round(hc * scale_comp)\n",
    "sh1, sw1, sh2, sw2 = (shc-new_face_width, swc-new_face_width, \n",
    "                      shc+new_face_width, swc+new_face_width)\n",
    "print \"Chosen scale of computation: %.3f,\" % (scale_comp)\n",
    "print \"New face center: (%.1f, %.1f)\\nface width: %.0f\" % (\n",
    "    shc, swc, new_face_width * 2)\n",
    "res = cv2.resize(img, None, fx=scale_comp, fy=scale_comp)\n",
    "h, w, _ = res.shape"
   ]
  },
  {
   "cell_type": "code",
   "execution_count": null,
   "metadata": {
    "collapsed": false
   },
   "outputs": [],
   "source": [
    "print \"Face width: %.1f\" % (new_face_width * 2)\n",
    "plot_face_bb(res[:,:,::-1], y_1*scale_comp, scale=False, path=False)"
   ]
  },
  {
   "cell_type": "code",
   "execution_count": null,
   "metadata": {
    "collapsed": false
   },
   "outputs": [],
   "source": [
    "# Possible location of the face\n",
    "min_pad = new_face_width + 30\n",
    "lw, lh, hw, hh = (min(min_pad, w0 - min_pad), min(min_pad, h0 - min_pad), \n",
    "                  max(min_pad, w0 - min_pad), max(min_pad, h0 - min_pad))\n",
    "print \"Get face center in the given window: (%.1f, %.1f) (%.1f, %.1f)\" % (lh, lw, hh, hw)\n",
    "twc = rng.randint(lw, hw, 1)[0]\n",
    "thc = rng.randint(lh, hh, 1)[0]\n",
    "print \"New center location: (%.1f, %.1f)\" % (thc, twc)"
   ]
  },
  {
   "cell_type": "code",
   "execution_count": null,
   "metadata": {
    "collapsed": false
   },
   "outputs": [],
   "source": [
    "out = np.random.randint(0, high=255, size=img_size).astype(np.uint8)\n",
    "sfh = shc - thc\n",
    "tfh = int(0 if sfh > 0 else abs(sfh))\n",
    "sfh = int(0 if sfh < 0 else sfh)\n",
    "sfw = swc - twc\n",
    "tfw = int(0 if sfw > 0 else abs(sfw))\n",
    "sfw = int(0 if sfw < 0 else sfw)\n",
    "print \"source begin: (%.0f, %.0f) target begin: (%.0f, %.0f)\" % (sfh, sfw, tfh, tfw)"
   ]
  },
  {
   "cell_type": "code",
   "execution_count": null,
   "metadata": {
    "collapsed": false
   },
   "outputs": [],
   "source": [
    "seh = shc - thc + h0\n",
    "teh = int(h0 if seh <= h else h0 - seh + h)\n",
    "seh = int(h if seh > h else seh)\n",
    "sew = swc - twc + w0\n",
    "tew = int(w0 if sew <= w else w0 - sew + w)\n",
    "sew = int(w if sew > w else sew)\n",
    "print \"source end: (%.0f, %.0f) target end: (%.0f, %.0f)\" % (seh, sew, teh, tew)"
   ]
  },
  {
   "cell_type": "code",
   "execution_count": null,
   "metadata": {
    "collapsed": false
   },
   "outputs": [],
   "source": [
    "ty_1 = np.array([twc-new_face_width, thc-new_face_width, twc+new_face_width, thc+new_face_width])\n",
    "out[tfh:teh, tfw:tew, :] = res[sfh:seh, sfw:sew, :]\n",
    "out = cv2.cvtColor(out, cv2.COLOR_BGR2RGB)\n",
    "plot_face_bb(out, ty_1, scale=False, path=False)\n",
    "print \"new face center: (%.0f, %.0f)\" % (thc, twc)"
   ]
  },
  {
   "cell_type": "code",
   "execution_count": null,
   "metadata": {
    "collapsed": false,
    "scrolled": false
   },
   "outputs": [],
   "source": [
    "for i in glob.glob('*.jpg'):\n",
    "    plt.figure()\n",
    "    plt.imshow(imread(i))"
   ]
  },
  {
   "cell_type": "code",
   "execution_count": null,
   "metadata": {
    "collapsed": true
   },
   "outputs": [],
   "source": []
  }
 ],
 "metadata": {
  "kernelspec": {
   "display_name": "Python 2",
   "language": "python",
   "name": "python2"
  },
  "language_info": {
   "codemirror_mode": {
    "name": "ipython",
    "version": 2
   },
   "file_extension": ".py",
   "mimetype": "text/x-python",
   "name": "python",
   "nbconvert_exporter": "python",
   "pygments_lexer": "ipython2",
   "version": "2.7.6"
  }
 },
 "nbformat": 4,
 "nbformat_minor": 0
}
