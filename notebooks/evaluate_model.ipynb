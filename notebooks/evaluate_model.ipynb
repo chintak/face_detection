{
 "cells": [
  {
   "cell_type": "code",
   "execution_count": null,
   "metadata": {
    "collapsed": false
   },
   "outputs": [],
   "source": [
    "%load_ext autoreload\n",
    "%autoreload 2"
   ]
  },
  {
   "cell_type": "code",
   "execution_count": null,
   "metadata": {
    "collapsed": true
   },
   "outputs": [],
   "source": [
    "import sys\n",
    "sys.path.insert(0, '../')\n",
    "sys.path.append('/home/arya_03/.envs/objdet/lib/python2.7/site-packages/')\n",
    "import matplotlib\n",
    "matplotlib.use('Agg')"
   ]
  },
  {
   "cell_type": "code",
   "execution_count": null,
   "metadata": {
    "collapsed": true
   },
   "outputs": [],
   "source": [
    "from __future__ import division\n",
    "import os\n",
    "import numpy as np\n",
    "import pandas as pd\n",
    "from skimage.io import imread\n",
    "import cv2\n",
    "from pandas import read_csv\n",
    "import matplotlib.pyplot as plt\n",
    "import glob\n",
    "\n",
    "%matplotlib inline"
   ]
  },
  {
   "cell_type": "markdown",
   "metadata": {
    "collapsed": true
   },
   "source": [
    "## Visualization"
   ]
  },
  {
   "cell_type": "code",
   "execution_count": null,
   "metadata": {
    "collapsed": false
   },
   "outputs": [],
   "source": [
    "from evaluate import load_network\n",
    "import cPickle as pickle\n",
    "from models import *\n",
    "from utils import get_file_list, create_fixed_image_shape\n",
    "from nolearn.lasagne import BatchIterator\n",
    "from plotting import plot_face_bb\n",
    "# from lazy_batch_iterator import LazyBatchIterator\n",
    "import skimage\n",
    "from sklearn.metrics import confusion_matrix, accuracy_score\n",
    "from mpl_toolkits.axes_grid1 import AxesGrid"
   ]
  },
  {
   "cell_type": "code",
   "execution_count": null,
   "metadata": {
    "collapsed": false
   },
   "outputs": [],
   "source": [
    "train_folder = '../train/'\n",
    "fnames, bboxes = get_file_list(train_folder)"
   ]
  },
  {
   "cell_type": "code",
   "execution_count": null,
   "metadata": {
    "collapsed": true
   },
   "outputs": [],
   "source": [
    "def prepare_test_img(shape, img=None, name=None):\n",
    "    from skimage.io import imread \n",
    "    im = None\n",
    "    if img is not None:\n",
    "        im = img\n",
    "    elif name is not None:\n",
    "        im = imread(name)\n",
    "    inp = create_fixed_image_shape(im, shape, mode='fit')\n",
    "    return inp"
   ]
  },
  {
   "cell_type": "markdown",
   "metadata": {},
   "source": [
    "### Option 1 - Load weights"
   ]
  },
  {
   "cell_type": "code",
   "execution_count": null,
   "metadata": {
    "collapsed": false
   },
   "outputs": [],
   "source": [
    "print NET_CONFIGS"
   ]
  },
  {
   "cell_type": "code",
   "execution_count": null,
   "metadata": {
    "collapsed": false
   },
   "outputs": [],
   "source": [
    "nnet = load_network(\"/home/arya_03/work/face_detection_gtx/model_run3_smoothl1_model16_scale_trans_3/model_28.pkl\",\n",
    "                    \"config_4c_1234_3d_smoothl1_lr_step\",\n",
    "                    \"BatchIterator\")"
   ]
  },
  {
   "cell_type": "markdown",
   "metadata": {},
   "source": [
    "### Option 2 - Full network"
   ]
  },
  {
   "cell_type": "raw",
   "metadata": {
    "collapsed": true
   },
   "source": [
    "full_model_name = '/home/arya_03/work/face_detection_gtx/model_1234_sigmoid_trans_scale/full_nnet.pkl'\n",
    "nnet = pickle.load(open(full_model_name, 'rb'))\n",
    "nnet.batch_iterator_test = BatchIterator(batch_size=64)"
   ]
  },
  {
   "cell_type": "markdown",
   "metadata": {},
   "source": [
    "### Evaluate result on the test images"
   ]
  },
  {
   "cell_type": "code",
   "execution_count": null,
   "metadata": {
    "collapsed": true
   },
   "outputs": [],
   "source": [
    "def plot_imgs_grid(Z, ncols=10):\n",
    "    num = len(Z)\n",
    "    fig = plt.figure(1, (80, 80))\n",
    "    fig.subplots_adjust(left=0.05, right=0.95)\n",
    "    grid = AxesGrid(fig, (1, 4, 2),  # similar to subplot(142)\n",
    "                    nrows_ncols=(int(np.ceil(float(num) / ncols)), ncols),\n",
    "                    axes_pad=0.04,\n",
    "                    share_all=True,\n",
    "                    label_mode=\"L\",\n",
    "                    )\n",
    "\n",
    "    for i in range(num):\n",
    "        im = grid[i].imshow(Z[i], interpolation=\"nearest\")\n",
    "    for i in range(grid.ngrids):\n",
    "        grid[i].axis('off')\n",
    "\n",
    "    for cax in grid.cbar_axes:\n",
    "        cax.toggle_label(False)"
   ]
  },
  {
   "cell_type": "code",
   "execution_count": null,
   "metadata": {
    "collapsed": true
   },
   "outputs": [],
   "source": [
    "# Predict and plot the bounding boxes for images in test_imgs/ folder\n",
    "outs = []\n",
    "for fname in glob.glob(os.path.join('../test_imgs', '*.jpg')):\n",
    "    proc_img = prepare_test_img((256, 256, 3), name=fname)\n",
    "    img = np.transpose(proc_img, [2, 0, 1])\n",
    "    preds = nnet.predict([img])\n",
    "    outs.append(plot_face_bb(proc_img, preds[0], path=False, plot=False))"
   ]
  },
  {
   "cell_type": "raw",
   "metadata": {
    "collapsed": false,
    "scrolled": true
   },
   "source": [
    "#dont run\n",
    "plot_imgs_grid(outs, 5)"
   ]
  },
  {
   "cell_type": "code",
   "execution_count": null,
   "metadata": {
    "collapsed": false,
    "scrolled": false
   },
   "outputs": [],
   "source": [
    "# run3_3 model_28\n",
    "plot_imgs_grid(outs, 5)"
   ]
  },
  {
   "cell_type": "code",
   "execution_count": null,
   "metadata": {
    "collapsed": false,
    "scrolled": false
   },
   "outputs": [],
   "source": [
    "# run3_3 model_1\n",
    "plot_imgs_grid(outs, 5)"
   ]
  },
  {
   "cell_type": "code",
   "execution_count": null,
   "metadata": {
    "collapsed": false,
    "scrolled": false
   },
   "outputs": [],
   "source": [
    "# run3_2 model_2\n",
    "plot_imgs_grid(outs, 5)"
   ]
  },
  {
   "cell_type": "code",
   "execution_count": null,
   "metadata": {
    "collapsed": false,
    "scrolled": false
   },
   "outputs": [],
   "source": [
    "# run3 model_25\n",
    "plot_imgs_grid(outs, 5)"
   ]
  },
  {
   "cell_type": "code",
   "execution_count": null,
   "metadata": {
    "collapsed": false,
    "scrolled": false
   },
   "outputs": [],
   "source": [
    "# run2 model_25\n",
    "plot_imgs_grid(outs, 5)"
   ]
  },
  {
   "cell_type": "code",
   "execution_count": null,
   "metadata": {
    "collapsed": false,
    "scrolled": false
   },
   "outputs": [],
   "source": [
    "# run3 model_20\n",
    "plot_imgs_grid(outs, 5)"
   ]
  },
  {
   "cell_type": "code",
   "execution_count": null,
   "metadata": {
    "collapsed": false,
    "scrolled": true
   },
   "outputs": [],
   "source": [
    "# run3 model_19\n",
    "plot_imgs_grid(outs, 5)"
   ]
  },
  {
   "cell_type": "code",
   "execution_count": null,
   "metadata": {
    "collapsed": false,
    "scrolled": true
   },
   "outputs": [],
   "source": [
    "# run2 model_19\n",
    "plot_imgs_grid(outs, 5)"
   ]
  },
  {
   "cell_type": "code",
   "execution_count": null,
   "metadata": {
    "collapsed": false,
    "scrolled": true
   },
   "outputs": [],
   "source": [
    "# model_15\n",
    "plot_imgs_grid(outs, 5)"
   ]
  },
  {
   "cell_type": "markdown",
   "metadata": {},
   "source": [
    "### Visualize weights"
   ]
  },
  {
   "cell_type": "code",
   "execution_count": null,
   "metadata": {
    "collapsed": false
   },
   "outputs": [],
   "source": [
    "pp = nnet.get_all_params_values()"
   ]
  },
  {
   "cell_type": "code",
   "execution_count": null,
   "metadata": {
    "collapsed": false,
    "scrolled": false
   },
   "outputs": [],
   "source": [
    "for k in pp.keys():\n",
    "    if 'conv' in k:\n",
    "        for w in pp[k]:\n",
    "            if w.ndim <= 2:\n",
    "                continue\n",
    "            for i in range(w.shape[0]):\n",
    "                plt.figure(figsize=(1,1))\n",
    "                plt.axis('off')\n",
    "                plt.imshow(w[i, :, :, :].mean(axis=0), interpolation='nearest')\n",
    "            break"
   ]
  },
  {
   "cell_type": "code",
   "execution_count": null,
   "metadata": {
    "collapsed": true
   },
   "outputs": [],
   "source": [
    "def plot_weight_matrix(Z, k):\n",
    "    num = Z.shape[0]\n",
    "    fig = plt.figure(1, (30, 30))\n",
    "    fig.subplots_adjust(left=0.05, right=0.95)\n",
    "    grid = AxesGrid(fig, (1, 4, 2),  # similar to subplot(142)\n",
    "                    nrows_ncols=(int(np.ceil(num / 10.)), 10),\n",
    "                    axes_pad=0.04,\n",
    "                    share_all=True,\n",
    "                    label_mode=\"L\",\n",
    "                    )\n",
    "\n",
    "    for i in range(num):\n",
    "        im = grid[i].imshow(Z[i, :, :, :].mean(\n",
    "            axis=0), cmap='coolwarm')\n",
    "    for i in range(grid.ngrids):\n",
    "        grid[i].axis('off')\n",
    "\n",
    "    for cax in grid.cbar_axes:\n",
    "        cax.toggle_label(False)"
   ]
  },
  {
   "cell_type": "code",
   "execution_count": null,
   "metadata": {
    "collapsed": false
   },
   "outputs": [],
   "source": [
    "plot_weight_matrix(pp['conv1_1'][0], 'test')"
   ]
  },
  {
   "cell_type": "code",
   "execution_count": null,
   "metadata": {
    "collapsed": true
   },
   "outputs": [],
   "source": []
  },
  {
   "cell_type": "markdown",
   "metadata": {},
   "source": [
    "## Plot x-y-scale for the faces used for training"
   ]
  },
  {
   "cell_type": "code",
   "execution_count": null,
   "metadata": {
    "collapsed": false
   },
   "outputs": [],
   "source": [
    "from mpl_toolkits.mplot3d import Axes3D"
   ]
  },
  {
   "cell_type": "code",
   "execution_count": null,
   "metadata": {
    "collapsed": false
   },
   "outputs": [],
   "source": [
    "df = read_csv('../aug.csv')\n",
    "df.head()"
   ]
  },
  {
   "cell_type": "code",
   "execution_count": null,
   "metadata": {
    "collapsed": false
   },
   "outputs": [],
   "source": [
    "%matplotlib notebook\n",
    "fig = plt.figure()\n",
    "ax = fig.add_subplot(111, projection='3d')\n",
    "ax.scatter(df['r'][:4000], df['c'][:4000], df['width'][:4000], c='none', facecolors='none', edgecolors='r')"
   ]
  },
  {
   "cell_type": "code",
   "execution_count": null,
   "metadata": {
    "collapsed": false
   },
   "outputs": [],
   "source": [
    "df.describe()"
   ]
  },
  {
   "cell_type": "code",
   "execution_count": null,
   "metadata": {
    "collapsed": false
   },
   "outputs": [],
   "source": [
    "%matplotlib inline\n",
    "plt.hist2d(df['r'], df['c'], bins=30);"
   ]
  },
  {
   "cell_type": "code",
   "execution_count": null,
   "metadata": {
    "collapsed": true
   },
   "outputs": [],
   "source": []
  }
 ],
 "metadata": {
  "kernelspec": {
   "display_name": "Python 2",
   "language": "python",
   "name": "python2"
  },
  "language_info": {
   "codemirror_mode": {
    "name": "ipython",
    "version": 2
   },
   "file_extension": ".py",
   "mimetype": "text/x-python",
   "name": "python",
   "nbconvert_exporter": "python",
   "pygments_lexer": "ipython2",
   "version": "2.7.6"
  }
 },
 "nbformat": 4,
 "nbformat_minor": 0
}
