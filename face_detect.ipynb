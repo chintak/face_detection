{
 "cells": [
  {
   "cell_type": "code",
   "execution_count": null,
   "metadata": {
    "collapsed": false
   },
   "outputs": [],
   "source": [
    "%load_ext autoreload\n",
    "%autoreload 2"
   ]
  },
  {
   "cell_type": "code",
   "execution_count": null,
   "metadata": {
    "collapsed": true
   },
   "outputs": [],
   "source": [
    "from __future__ import division\n",
    "import os\n",
    "import numpy as np\n",
    "import pandas as pd\n",
    "from skimage.io import imread\n",
    "from skimage.color import gray2rgb\n",
    "import cv2\n",
    "from pandas import read_csv\n",
    "import matplotlib.pyplot as plt"
   ]
  },
  {
   "cell_type": "code",
   "execution_count": null,
   "metadata": {
    "collapsed": false
   },
   "outputs": [],
   "source": [
    "%matplotlib inline"
   ]
  },
  {
   "cell_type": "markdown",
   "metadata": {},
   "source": [
    "## Augmentation"
   ]
  },
  {
   "cell_type": "code",
   "execution_count": null,
   "metadata": {
    "collapsed": false
   },
   "outputs": [],
   "source": [
    "from utils import get_file_list\n",
    "import glob\n",
    "from train_val_split import read_facescrub_img_list\n",
    "from plotting import plot_face_bb\n",
    "from mpl_toolkits.mplot3d import Axes3D"
   ]
  },
  {
   "cell_type": "code",
   "execution_count": null,
   "metadata": {
    "collapsed": true
   },
   "outputs": [],
   "source": [
    "%matplotlib notebook"
   ]
  },
  {
   "cell_type": "markdown",
   "metadata": {},
   "source": [
    "### Train data split"
   ]
  },
  {
   "cell_type": "code",
   "execution_count": null,
   "metadata": {
    "collapsed": true
   },
   "outputs": [],
   "source": [
    "folder = '/media/shared/faceScrub/train_face_det/'\n",
    "path = folder\n",
    "actor_label_txt = '/media/shared/faceScrub/facescrub_actors.txt'\n",
    "actress_label_txt = '/media/shared/faceScrub/facescrub_actresses.txt'\n",
    "accept_pattern = '*/*.jpg'"
   ]
  },
  {
   "cell_type": "code",
   "execution_count": null,
   "metadata": {
    "collapsed": false
   },
   "outputs": [],
   "source": [
    "fnames, bboxes = read_facescrub_img_list(path, actor_label_txt, actress_label_txt, accept_pattern='*/*.jpg')"
   ]
  },
  {
   "cell_type": "code",
   "execution_count": null,
   "metadata": {
    "collapsed": false
   },
   "outputs": [],
   "source": [
    "len(fnames), len(bboxes)"
   ]
  },
  {
   "cell_type": "markdown",
   "metadata": {},
   "source": [
    "### Data augment"
   ]
  },
  {
   "cell_type": "code",
   "execution_count": null,
   "metadata": {
    "collapsed": true
   },
   "outputs": [],
   "source": [
    "train_csv = 'train.csv'"
   ]
  },
  {
   "cell_type": "code",
   "execution_count": null,
   "metadata": {
    "collapsed": false
   },
   "outputs": [],
   "source": [
    "train_df = read_csv(train_csv, sep='\\t')\n",
    "X = np.asarray(train_df['name'].as_matrix())\n",
    "y_str = train_df['bbox']\n",
    "y_l = map(lambda k: [np.float32(v)\n",
    "                     for v in k.split(',')], y_str)\n",
    "y = np.asarray(y_l)"
   ]
  },
  {
   "cell_type": "code",
   "execution_count": null,
   "metadata": {
    "collapsed": true
   },
   "outputs": [],
   "source": [
    "x_1 = X[1]\n",
    "y_1 = y[1, :]"
   ]
  },
  {
   "cell_type": "code",
   "execution_count": null,
   "metadata": {
    "collapsed": false
   },
   "outputs": [],
   "source": [
    "im = imread(x_1)\n",
    "plot_face_bb(im, y_1, scale=False, path=False)\n",
    "img = cv2.cvtColor(im, cv2.COLOR_RGB2BGR)"
   ]
  },
  {
   "cell_type": "code",
   "execution_count": null,
   "metadata": {
    "collapsed": true
   },
   "outputs": [],
   "source": [
    "img_size = (256, 256, 3)\n",
    "MAX_FACE_SIZE = 220\n",
    "MIN_FACE_SIZE = 64"
   ]
  },
  {
   "cell_type": "code",
   "execution_count": null,
   "metadata": {
    "collapsed": false
   },
   "outputs": [],
   "source": [
    "h0, w0, _ = img_size\n",
    "w1, h1, w2, h2 = y_1\n",
    "wc, hc = (y_1[0] + y_1[2]) / 2, (y_1[1] + y_1[3]) / 2\n",
    "face_width = (h2 - h1) / 2\n",
    "print \"Original center coords: (%.1f, %.1f)\" % (wc, hc)\n",
    "print \"Face coords: (%.1f, %.1f) (%.1f, %.1f) and face width: %.0f\" % (h1, w1, h2, w2, face_width * 2)"
   ]
  },
  {
   "cell_type": "code",
   "execution_count": null,
   "metadata": {
    "collapsed": false
   },
   "outputs": [],
   "source": [
    "rng = np.random.RandomState(seed=1234)"
   ]
  },
  {
   "cell_type": "code",
   "execution_count": null,
   "metadata": {
    "collapsed": false
   },
   "outputs": [],
   "source": [
    "# Possible scales of computation\n",
    "high_scale = MAX_FACE_SIZE/2/face_width\n",
    "low_scale = MIN_FACE_SIZE/2/face_width\n",
    "print \"Scales of computation: %.3f - %.3f\" % (low_scale, high_scale)\n",
    "\n",
    "scale_comp = rng.choice(np.arange(low_scale, high_scale, (high_scale-low_scale)/100), 1)[0]\n",
    "new_face_width = round(face_width * scale_comp)\n",
    "swc, shc = round(wc * scale_comp), round(hc * scale_comp)\n",
    "sh1, sw1, sh2, sw2 = (shc-new_face_width, swc-new_face_width, \n",
    "                      shc+new_face_width, swc+new_face_width)\n",
    "print \"Chosen scale of computation: %.3f,\" % (scale_comp)\n",
    "print \"New face center: (%.1f, %.1f)\\nface width: %.0f\" % (\n",
    "    shc, swc, new_face_width * 2)\n",
    "res = cv2.resize(img, None, fx=scale_comp, fy=scale_comp)\n",
    "h, w, _ = res.shape"
   ]
  },
  {
   "cell_type": "code",
   "execution_count": null,
   "metadata": {
    "collapsed": false
   },
   "outputs": [],
   "source": [
    "print \"Face width: %.1f\" % (new_face_width * 2)\n",
    "plot_face_bb(res[:,:,::-1], y_1*scale_comp, scale=False, path=False)"
   ]
  },
  {
   "cell_type": "code",
   "execution_count": null,
   "metadata": {
    "collapsed": false
   },
   "outputs": [],
   "source": [
    "# Possible location of the face\n",
    "min_pad = new_face_width + 30\n",
    "lw, lh, hw, hh = (min(min_pad, w0 - min_pad), min(min_pad, h0 - min_pad), \n",
    "                  max(min_pad, w0 - min_pad), max(min_pad, h0 - min_pad))\n",
    "print \"Get face center in the given window: (%.1f, %.1f) (%.1f, %.1f)\" % (lh, lw, hh, hw)\n",
    "twc = rng.randint(lw, hw, 1)[0]\n",
    "thc = rng.randint(lh, hh, 1)[0]\n",
    "print \"New center location: (%.1f, %.1f)\" % (thc, twc)"
   ]
  },
  {
   "cell_type": "code",
   "execution_count": null,
   "metadata": {
    "collapsed": false
   },
   "outputs": [],
   "source": [
    "out = np.random.randint(0, high=255, size=img_size).astype(np.uint8)\n",
    "sfh = shc - thc\n",
    "tfh = int(0 if sfh > 0 else abs(sfh))\n",
    "sfh = int(0 if sfh < 0 else sfh)\n",
    "sfw = swc - twc\n",
    "tfw = int(0 if sfw > 0 else abs(sfw))\n",
    "sfw = int(0 if sfw < 0 else sfw)\n",
    "print \"source begin: (%.0f, %.0f) target begin: (%.0f, %.0f)\" % (sfh, sfw, tfh, tfw)"
   ]
  },
  {
   "cell_type": "code",
   "execution_count": null,
   "metadata": {
    "collapsed": false
   },
   "outputs": [],
   "source": [
    "seh = shc - thc + h0\n",
    "teh = int(h0 if seh <= h else h0 - seh + h)\n",
    "seh = int(h if seh > h else seh)\n",
    "sew = swc - twc + w0\n",
    "tew = int(w0 if sew <= w else w0 - sew + w)\n",
    "sew = int(w if sew > w else sew)\n",
    "print \"source end: (%.0f, %.0f) target end: (%.0f, %.0f)\" % (seh, sew, teh, tew)"
   ]
  },
  {
   "cell_type": "code",
   "execution_count": null,
   "metadata": {
    "collapsed": false
   },
   "outputs": [],
   "source": [
    "ty_1 = np.array([twc-new_face_width, thc-new_face_width, twc+new_face_width, thc+new_face_width])\n",
    "out[tfh:teh, tfw:tew, :] = res[sfh:seh, sfw:sew, :]\n",
    "out = cv2.cvtColor(out, cv2.COLOR_BGR2RGB)\n",
    "plot_face_bb(out, ty_1, scale=False, path=False)\n",
    "print \"new face center: (%.0f, %.0f)\" % (thc, twc)"
   ]
  },
  {
   "cell_type": "code",
   "execution_count": null,
   "metadata": {
    "collapsed": false,
    "scrolled": false
   },
   "outputs": [],
   "source": [
    "for i in glob.glob('*.jpg'):\n",
    "    plt.figure()\n",
    "    plt.imshow(imread(i))"
   ]
  },
  {
   "cell_type": "code",
   "execution_count": null,
   "metadata": {
    "collapsed": false
   },
   "outputs": [],
   "source": [
    "df = read_csv('aug.csv')\n",
    "df.head()"
   ]
  },
  {
   "cell_type": "code",
   "execution_count": null,
   "metadata": {
    "collapsed": false
   },
   "outputs": [],
   "source": [
    "%matplotlib notebook\n",
    "fig = plt.figure()\n",
    "ax = fig.add_subplot(111, projection='3d')\n",
    "ax.scatter(df['r'][:2000], df['c'][:2000], df['width'][:2000], c='none', facecolors='none', edgecolors='r')"
   ]
  },
  {
   "cell_type": "code",
   "execution_count": null,
   "metadata": {
    "collapsed": false
   },
   "outputs": [],
   "source": [
    "df.describe()"
   ]
  },
  {
   "cell_type": "code",
   "execution_count": null,
   "metadata": {
    "collapsed": true
   },
   "outputs": [],
   "source": [
    "%matplotlib inline"
   ]
  },
  {
   "cell_type": "code",
   "execution_count": null,
   "metadata": {
    "collapsed": true
   },
   "outputs": [],
   "source": [
    "plt.hist2d(df['r'], df['c'], bins=50)"
   ]
  },
  {
   "cell_type": "code",
   "execution_count": null,
   "metadata": {
    "collapsed": true
   },
   "outputs": [],
   "source": [
    "a = []\n",
    "b = []\n",
    "np.random.seed()\n",
    "for i in xrange(5000):\n",
    "    a.append()\n",
    "plt.hist2d(df['r'], df['c'], bins=50)"
   ]
  },
  {
   "cell_type": "code",
   "execution_count": null,
   "metadata": {
    "collapsed": true
   },
   "outputs": [],
   "source": []
  },
  {
   "cell_type": "code",
   "execution_count": null,
   "metadata": {
    "collapsed": true
   },
   "outputs": [],
   "source": []
  },
  {
   "cell_type": "markdown",
   "metadata": {
    "collapsed": true
   },
   "source": [
    "## Visualization"
   ]
  },
  {
   "cell_type": "code",
   "execution_count": null,
   "metadata": {
    "collapsed": false
   },
   "outputs": [],
   "source": [
    "from evaluate import load_network\n",
    "import cPickle as pickle\n",
    "from models import *\n",
    "from utils import get_file_list, create_fixed_image_shape\n",
    "from nolearn.lasagne import BatchIterator\n",
    "from plotting import plot_face_bb\n",
    "# from lazy_batch_iterator import LazyBatchIterator\n",
    "import skimage\n",
    "import glob\n",
    "\n",
    "%matplotlib inline"
   ]
  },
  {
   "cell_type": "code",
   "execution_count": null,
   "metadata": {
    "collapsed": false
   },
   "outputs": [],
   "source": [
    "train_folder = 'train/'\n",
    "fnames, bboxes = get_file_list(train_folder)"
   ]
  },
  {
   "cell_type": "code",
   "execution_count": null,
   "metadata": {
    "collapsed": true
   },
   "outputs": [],
   "source": [
    "def prepare_test_img(shape, img=None, name=None):\n",
    "    from skimage.io import imread \n",
    "    im = None\n",
    "    if img is not None:\n",
    "        im = img\n",
    "    elif name is not None:\n",
    "        im = imread(name)\n",
    "    inp = create_fixed_image_shape(im, shape, mode='fit')\n",
    "    return inp"
   ]
  },
  {
   "cell_type": "code",
   "execution_count": null,
   "metadata": {
    "collapsed": true
   },
   "outputs": [],
   "source": [
    "model_name = '/home/arya_03/work/face_detection_gtx/model_trial_1234_sigmoid_2/model_20.pkl'\n",
    "full_model_name = '/home/arya_03/work/face_detection_gtx/model_trial_1234_sigmoid_2/full_nnet.pkl'"
   ]
  },
  {
   "cell_type": "code",
   "execution_count": null,
   "metadata": {
    "collapsed": false
   },
   "outputs": [],
   "source": [
    "nnet = load_network(model_name, \"nnet_4c3d_1234_convs_layer\", 'BatchIterator')"
   ]
  },
  {
   "cell_type": "code",
   "execution_count": null,
   "metadata": {
    "collapsed": false
   },
   "outputs": [],
   "source": [
    "nnet = pickle.load(open(full_model_name, 'rb'))"
   ]
  },
  {
   "cell_type": "code",
   "execution_count": null,
   "metadata": {
    "collapsed": false
   },
   "outputs": [],
   "source": [
    "nnet = load_network(\"/home/arya_03/work/face_detection_gtx/model_trial_1234_sigmoid_2/model_5.pkl\",\n",
    "                    \"nnet_4c3d_1234_convs_layer\",\n",
    "                    \"BatchIterator\")"
   ]
  },
  {
   "cell_type": "code",
   "execution_count": null,
   "metadata": {
    "collapsed": true
   },
   "outputs": [],
   "source": [
    "nnet.batch_iterator_test = BatchIterator(batch_size=64)"
   ]
  },
  {
   "cell_type": "code",
   "execution_count": null,
   "metadata": {
    "collapsed": false,
    "scrolled": true
   },
   "outputs": [],
   "source": [
    "# Predict and plot the bounding boxes for images in test_imgs/ folder\n",
    "for fname in glob.glob(os.path.join('test_imgs', '*.jpg')):\n",
    "    proc_img = prepare_test_img((256, 256, 3), name=fname)\n",
    "    img = np.transpose(proc_img, [2, 0, 1])\n",
    "    preds = nnet.predict([img])\n",
    "    plot_face_bb(proc_img, preds[0], path=False)"
   ]
  },
  {
   "cell_type": "code",
   "execution_count": null,
   "metadata": {
    "collapsed": true
   },
   "outputs": [],
   "source": []
  },
  {
   "cell_type": "code",
   "execution_count": null,
   "metadata": {
    "collapsed": true
   },
   "outputs": [],
   "source": []
  },
  {
   "cell_type": "code",
   "execution_count": null,
   "metadata": {
    "collapsed": false
   },
   "outputs": [],
   "source": [
    "def test(img, frame_size=(200, 200, 3), random_fill=True, mode='crop'):\n",
    "    if mode == 'fit':\n",
    "        X1, Y1, _ = frame_size\n",
    "        if random_fill:\n",
    "            image_frame = np.random.randint(\n",
    "                0, high=255, size=frame_size).astype(np.uint8)\n",
    "        else:\n",
    "            image_frame = np.zeros(frame_size, dtype='uint8')\n",
    "\n",
    "        X2, Y2 = img.shape[1], img.shape[0]\n",
    "\n",
    "        if X2 > Y2:\n",
    "            X_new = X1\n",
    "            Y_new = int(round(float(Y2 * X_new) / float(X2)))\n",
    "        else:\n",
    "            Y_new = Y1\n",
    "            X_new = int(round(float(X2 * Y_new) / float(Y2)))\n",
    "\n",
    "        img = cv2.resize(img, (X_new, Y_new))\n",
    "        img = img.reshape((img.shape[0], img.shape[1], frame_size[2]))\n",
    "\n",
    "        X_space_center = ((X1 - X_new) / 2)\n",
    "        Y_space_center = ((Y1 - Y_new) / 2)\n",
    "\n",
    "        # print Y_new, X_new, Y_space_center, X_space_center\n",
    "        image_frame[Y_space_center: Y_space_center + Y_new,\n",
    "                    X_space_center: X_space_center + X_new] = img\n",
    "        plt.imshow(image_frame)"
   ]
  },
  {
   "cell_type": "code",
   "execution_count": null,
   "metadata": {
    "collapsed": true
   },
   "outputs": [],
   "source": [
    "%matplotlib inline"
   ]
  },
  {
   "cell_type": "code",
   "execution_count": null,
   "metadata": {
    "collapsed": true
   },
   "outputs": [],
   "source": [
    "im = img.transpose([1, 2, 0])"
   ]
  },
  {
   "cell_type": "code",
   "execution_count": null,
   "metadata": {
    "collapsed": true
   },
   "outputs": [],
   "source": [
    "test(im, (80, 128, ))"
   ]
  },
  {
   "cell_type": "code",
   "execution_count": null,
   "metadata": {
    "collapsed": false
   },
   "outputs": [],
   "source": [
    "plt.imshow(im)"
   ]
  },
  {
   "cell_type": "code",
   "execution_count": null,
   "metadata": {
    "collapsed": true
   },
   "outputs": [],
   "source": []
  },
  {
   "cell_type": "code",
   "execution_count": null,
   "metadata": {
    "collapsed": true
   },
   "outputs": [],
   "source": []
  },
  {
   "cell_type": "code",
   "execution_count": null,
   "metadata": {
    "collapsed": true
   },
   "outputs": [],
   "source": []
  },
  {
   "cell_type": "code",
   "execution_count": null,
   "metadata": {
    "collapsed": true
   },
   "outputs": [],
   "source": []
  },
  {
   "cell_type": "code",
   "execution_count": null,
   "metadata": {
    "collapsed": true
   },
   "outputs": [],
   "source": []
  },
  {
   "cell_type": "code",
   "execution_count": null,
   "metadata": {
    "collapsed": true
   },
   "outputs": [],
   "source": []
  },
  {
   "cell_type": "code",
   "execution_count": null,
   "metadata": {
    "collapsed": true
   },
   "outputs": [],
   "source": []
  },
  {
   "cell_type": "code",
   "execution_count": null,
   "metadata": {
    "collapsed": false
   },
   "outputs": [],
   "source": [
    "idx = 1091\n",
    "nnet.batch_iterator_test = LazyBatchIterator(batch_size=64)\n",
    "preds = nnet.predict([fnames[idx]]) * .5 + .5\n",
    "print preds\n",
    "plot_face_bb(fnames[idx], preds[0])\n",
    "plot_face_bb(fnames[idx], np.asarray(bboxes[idx]) * .5 + .5)"
   ]
  },
  {
   "cell_type": "code",
   "execution_count": null,
   "metadata": {
    "collapsed": true
   },
   "outputs": [],
   "source": []
  },
  {
   "cell_type": "code",
   "execution_count": null,
   "metadata": {
    "collapsed": true
   },
   "outputs": [],
   "source": [
    "nnet = pickle.load(open(full_model_name, 'rb'))"
   ]
  },
  {
   "cell_type": "code",
   "execution_count": null,
   "metadata": {
    "collapsed": false
   },
   "outputs": [],
   "source": [
    "plot_learning_curve(None, nnet.train_history_[:50], save=False)"
   ]
  },
  {
   "cell_type": "code",
   "execution_count": null,
   "metadata": {
    "collapsed": false
   },
   "outputs": [],
   "source": [
    "plt.imshow(imread('learning_curve_trial_1234_sigmoid_2.png'))"
   ]
  },
  {
   "cell_type": "markdown",
   "metadata": {},
   "source": [
    "## Net construction"
   ]
  },
  {
   "cell_type": "code",
   "execution_count": null,
   "metadata": {
    "collapsed": false
   },
   "outputs": [],
   "source": [
    "from fd import get_file_list, nnet_three_conv_layer\n",
    "from plotting import plot_face_bb"
   ]
  },
  {
   "cell_type": "code",
   "execution_count": null,
   "metadata": {
    "collapsed": true
   },
   "outputs": [],
   "source": [
    "nnet = nnet_three_conv_layer()"
   ]
  },
  {
   "cell_type": "code",
   "execution_count": null,
   "metadata": {
    "collapsed": true
   },
   "outputs": [],
   "source": [
    "train_folder = 'train/'"
   ]
  },
  {
   "cell_type": "code",
   "execution_count": null,
   "metadata": {
    "collapsed": false
   },
   "outputs": [],
   "source": [
    "fnames, bboxes = get_file_list(train_folder)"
   ]
  },
  {
   "cell_type": "code",
   "execution_count": null,
   "metadata": {
    "collapsed": false
   },
   "outputs": [],
   "source": [
    "fnames[0], bboxes[0]"
   ]
  },
  {
   "cell_type": "code",
   "execution_count": null,
   "metadata": {
    "collapsed": false
   },
   "outputs": [],
   "source": [
    "X = np.array(list(fnames))\n",
    "y = np.array(list(bboxes))"
   ]
  },
  {
   "cell_type": "code",
   "execution_count": null,
   "metadata": {
    "collapsed": false
   },
   "outputs": [],
   "source": [
    "nnet.fit(X, y)"
   ]
  },
  {
   "cell_type": "code",
   "execution_count": null,
   "metadata": {
    "collapsed": false
   },
   "outputs": [],
   "source": [
    "plot_face_bb(fnames[1000], bboxes[1000])"
   ]
  },
  {
   "cell_type": "code",
   "execution_count": null,
   "metadata": {
    "collapsed": true
   },
   "outputs": [],
   "source": [
    "im = imread(fnames[0])"
   ]
  },
  {
   "cell_type": "code",
   "execution_count": null,
   "metadata": {
    "collapsed": true
   },
   "outputs": [],
   "source": [
    "X = []\n",
    "X.append(np.transpose(im, [2,0,1]))\n",
    "X.append(None)\n",
    "X.append(np.transpose(im, [2,0,1]))\n",
    "X.append(None)"
   ]
  },
  {
   "cell_type": "code",
   "execution_count": null,
   "metadata": {
    "collapsed": false
   },
   "outputs": [],
   "source": [
    "np.array(X).shape"
   ]
  },
  {
   "cell_type": "code",
   "execution_count": null,
   "metadata": {
    "collapsed": false
   },
   "outputs": [],
   "source": [
    "plt.imshow(imread('/home/arya_03/data/concat/data/0/bb008b9e367f001837b3adabb2b46323.jpg'))"
   ]
  },
  {
   "cell_type": "code",
   "execution_count": null,
   "metadata": {
    "collapsed": true
   },
   "outputs": [],
   "source": []
  },
  {
   "cell_type": "code",
   "execution_count": null,
   "metadata": {
    "collapsed": true
   },
   "outputs": [],
   "source": []
  },
  {
   "cell_type": "code",
   "execution_count": null,
   "metadata": {
    "collapsed": true
   },
   "outputs": [],
   "source": []
  },
  {
   "cell_type": "code",
   "execution_count": null,
   "metadata": {
    "collapsed": true
   },
   "outputs": [],
   "source": []
  },
  {
   "cell_type": "code",
   "execution_count": null,
   "metadata": {
    "collapsed": true
   },
   "outputs": [],
   "source": []
  },
  {
   "cell_type": "code",
   "execution_count": null,
   "metadata": {
    "collapsed": true
   },
   "outputs": [],
   "source": []
  },
  {
   "cell_type": "code",
   "execution_count": null,
   "metadata": {
    "collapsed": true
   },
   "outputs": [],
   "source": []
  },
  {
   "cell_type": "code",
   "execution_count": null,
   "metadata": {
    "collapsed": true
   },
   "outputs": [],
   "source": []
  }
 ],
 "metadata": {
  "kernelspec": {
   "display_name": "Python 2",
   "language": "python",
   "name": "python2"
  },
  "language_info": {
   "codemirror_mode": {
    "name": "ipython",
    "version": 2
   },
   "file_extension": ".py",
   "mimetype": "text/x-python",
   "name": "python",
   "nbconvert_exporter": "python",
   "pygments_lexer": "ipython2",
   "version": "2.7.6"
  }
 },
 "nbformat": 4,
 "nbformat_minor": 0
}
