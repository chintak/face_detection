{
 "cells": [
  {
   "cell_type": "code",
   "execution_count": null,
   "metadata": {
    "collapsed": false
   },
   "outputs": [],
   "source": [
    "%load_ext autoreload\n",
    "%autoreload 2"
   ]
  },
  {
   "cell_type": "code",
   "execution_count": null,
   "metadata": {
    "collapsed": false
   },
   "outputs": [],
   "source": [
    "import os\n",
    "import numpy as np\n",
    "import pandas as pd\n",
    "from skimage.io import imread\n",
    "from skimage.color import gray2rgb\n",
    "import cv2\n",
    "from pandas import read_csv\n",
    "import matplotlib.pyplot as plt\n",
    "\n",
    "%matplotlib inline"
   ]
  },
  {
   "cell_type": "markdown",
   "metadata": {
    "collapsed": true
   },
   "source": [
    "## Visualization"
   ]
  },
  {
   "cell_type": "code",
   "execution_count": null,
   "metadata": {
    "collapsed": false
   },
   "outputs": [],
   "source": [
    "from evaluate import plot_learning_curves, load_network\n",
    "import cPickle as pickle\n",
    "from models import nnet_three_conv_layer\n",
    "from utils import get_file_list, create_fixed_image_shape\n",
    "from nolearn.lasagne import BatchIterator\n",
    "from plotting import plot_face_bb\n",
    "from lazy_batch_iterator import LazyBatchIterator\n",
    "import skimage\n",
    "import glob"
   ]
  },
  {
   "cell_type": "code",
   "execution_count": null,
   "metadata": {
    "collapsed": false
   },
   "outputs": [],
   "source": [
    "train_folder = 'train/'\n",
    "fnames, bboxes = get_file_list(train_folder)"
   ]
  },
  {
   "cell_type": "code",
   "execution_count": null,
   "metadata": {
    "collapsed": true
   },
   "outputs": [],
   "source": [
    "def prepare_test_img(shape, img=None, name=None):\n",
    "    from skimage.io import imread \n",
    "    im = None\n",
    "    if img is not None:\n",
    "        im = img\n",
    "    elif name is not None:\n",
    "        im = imread(name)\n",
    "    inp = create_fixed_image_shape(im, shape, mode='fit')\n",
    "    return inp"
   ]
  },
  {
   "cell_type": "code",
   "execution_count": null,
   "metadata": {
    "collapsed": true
   },
   "outputs": [],
   "source": [
    "model_name = '/home/arya_03/work/face_detection_gtx/model_vgg_like_2/model_100.pkl'\n",
    "full_model_name = '/home/arya_03/work/face_detection_gtx/model_vgg_like_2/full_nnet.pkl'"
   ]
  },
  {
   "cell_type": "code",
   "execution_count": null,
   "metadata": {
    "collapsed": false
   },
   "outputs": [],
   "source": [
    "nnet = load_network(model_name)"
   ]
  },
  {
   "cell_type": "code",
   "execution_count": null,
   "metadata": {
    "collapsed": true
   },
   "outputs": [],
   "source": [
    "nnet = pickle.load(open(full_model_name, 'rb'))"
   ]
  },
  {
   "cell_type": "code",
   "execution_count": null,
   "metadata": {
    "collapsed": true
   },
   "outputs": [],
   "source": [
    "nnet.batch_iterator_test = BatchIterator(batch_size=64)"
   ]
  },
  {
   "cell_type": "code",
   "execution_count": null,
   "metadata": {
    "collapsed": false,
    "scrolled": false
   },
   "outputs": [],
   "source": [
    "# Predict and plot the bounding boxes for images in test_imgs/ folder\n",
    "for fname in glob.glob(os.path.join('test_imgs', '*.jpg')):\n",
    "    proc_img = prepare_test_img((256, 256, 3), name=fname)\n",
    "    img = np.transpose(proc_img, [2, 0, 1])\n",
    "    preds = nnet.predict([img]) * .5 + .5\n",
    "    plot_face_bb(proc_img, preds[0], path=False)"
   ]
  },
  {
   "cell_type": "code",
   "execution_count": null,
   "metadata": {
    "collapsed": false
   },
   "outputs": [],
   "source": [
    "idx = 1090\n",
    "# nnet.batch_iterator_test = LazyBatchIterator(batch_size=64)\n",
    "preds = nnet.predict([fnames[idx]]) * .5 + .5\n",
    "plot_face_bb(fnames[idx], preds[0])\n",
    "plot_face_bb(fnames[idx], np.asarray(bboxes[idx]) * .5 + .5)"
   ]
  },
  {
   "cell_type": "markdown",
   "metadata": {},
   "source": [
    "## Augmentation"
   ]
  },
  {
   "cell_type": "code",
   "execution_count": null,
   "metadata": {
    "collapsed": false
   },
   "outputs": [],
   "source": [
    "from utils import get_file_list\n",
    "import glob\n",
    "from train_val_split import get_names_bboxes"
   ]
  },
  {
   "cell_type": "code",
   "execution_count": null,
   "metadata": {
    "collapsed": true
   },
   "outputs": [],
   "source": [
    "folder = '/media/shared/faceScrub/train_face_det/'\n",
    "path = folder\n",
    "actor_label_txt = '/media/shared/faceScrub/facescrub_actors.txt'\n",
    "actress_label_txt = '/media/shared/faceScrub/facescrub_actresses.txt'\n",
    "accept_pattern = '*/*.jpg'"
   ]
  },
  {
   "cell_type": "code",
   "execution_count": null,
   "metadata": {
    "collapsed": true
   },
   "outputs": [],
   "source": [
    "# def get_names_bboxes1(folder, actor_label_txt, actress_label_txt, accept_pattern='*.jpg'):\n",
    "full_names = glob.glob(os.path.join(folder, accept_pattern))\n",
    "only_names = map(lambda f: os.path.splitext(\n",
    "    os.path.basename(f))[0], full_names)\n",
    "\n",
    "pd_male = read_csv(actor_label_txt, sep='\\t')\n",
    "del pd_male['url'], pd_male['image_id'], pd_male['face_id']\n",
    "pd_female = read_csv(actress_label_txt, sep='\\t')\n",
    "del pd_female['url'], pd_female['image_id'], pd_female['face_id']\n",
    "pd_celeb = pd.concat([pd_male, pd_female], ignore_index=True)\n",
    "pd_celeb = pd_celeb.drop_duplicates(subset='sha256', keep='last').set_index('sha256')\n",
    "\n",
    "bboxes = map(lambda k: [np.float32(v) for v in \n",
    "    pd_celeb.bbox[k].split(',')], only_names)\n",
    "# return full_names, bboxes"
   ]
  },
  {
   "cell_type": "code",
   "execution_count": null,
   "metadata": {
    "collapsed": false
   },
   "outputs": [],
   "source": [
    "fnames, bboxes = get_names_bboxes1(path, actor_label_txt, actress_label_txt, accept_pattern='*/*.jpg')"
   ]
  },
  {
   "cell_type": "code",
   "execution_count": null,
   "metadata": {
    "collapsed": true
   },
   "outputs": [],
   "source": [
    "cc = globals()['get_names_bboxes1']"
   ]
  },
  {
   "cell_type": "code",
   "execution_count": null,
   "metadata": {
    "collapsed": false
   },
   "outputs": [],
   "source": [
    "cc()"
   ]
  },
  {
   "cell_type": "code",
   "execution_count": null,
   "metadata": {
    "collapsed": false
   },
   "outputs": [],
   "source": [
    "len(fnames), len(bboxes)"
   ]
  },
  {
   "cell_type": "code",
   "execution_count": null,
   "metadata": {
    "collapsed": false
   },
   "outputs": [],
   "source": [
    "pd_celeb.ix[only_names[-10:]].to_csv('try.csv', sep='\\t', index_label='sha256')"
   ]
  },
  {
   "cell_type": "code",
   "execution_count": null,
   "metadata": {
    "collapsed": false
   },
   "outputs": [],
   "source": [
    "df = pd.DataFrame({'name': fnames, 'bbox': bboxes})\n",
    "df.head()"
   ]
  },
  {
   "cell_type": "code",
   "execution_count": null,
   "metadata": {
    "collapsed": false
   },
   "outputs": [],
   "source": [
    "df.bbox[[1, 4]].to_dense()"
   ]
  },
  {
   "cell_type": "code",
   "execution_count": null,
   "metadata": {
    "collapsed": false
   },
   "outputs": [],
   "source": [
    "!head try.csv"
   ]
  },
  {
   "cell_type": "markdown",
   "metadata": {},
   "source": [
    "## Net construction"
   ]
  },
  {
   "cell_type": "code",
   "execution_count": null,
   "metadata": {
    "collapsed": false
   },
   "outputs": [],
   "source": [
    "from fd import get_file_list, nnet_three_conv_layer\n",
    "from plotting import plot_face_bb"
   ]
  },
  {
   "cell_type": "code",
   "execution_count": null,
   "metadata": {
    "collapsed": true
   },
   "outputs": [],
   "source": [
    "nnet = nnet_three_conv_layer()"
   ]
  },
  {
   "cell_type": "code",
   "execution_count": null,
   "metadata": {
    "collapsed": true
   },
   "outputs": [],
   "source": [
    "train_folder = 'train/'"
   ]
  },
  {
   "cell_type": "code",
   "execution_count": null,
   "metadata": {
    "collapsed": false
   },
   "outputs": [],
   "source": [
    "fnames, bboxes = get_file_list(train_folder)"
   ]
  },
  {
   "cell_type": "code",
   "execution_count": null,
   "metadata": {
    "collapsed": false
   },
   "outputs": [],
   "source": [
    "fnames[0], bboxes[0]"
   ]
  },
  {
   "cell_type": "code",
   "execution_count": null,
   "metadata": {
    "collapsed": false
   },
   "outputs": [],
   "source": [
    "X = np.array(list(fnames))\n",
    "y = np.array(list(bboxes))"
   ]
  },
  {
   "cell_type": "code",
   "execution_count": null,
   "metadata": {
    "collapsed": false
   },
   "outputs": [],
   "source": [
    "nnet.fit(X, y)"
   ]
  },
  {
   "cell_type": "code",
   "execution_count": null,
   "metadata": {
    "collapsed": false
   },
   "outputs": [],
   "source": [
    "plot_face_bb(fnames[1000], bboxes[1000])"
   ]
  },
  {
   "cell_type": "code",
   "execution_count": null,
   "metadata": {
    "collapsed": true
   },
   "outputs": [],
   "source": [
    "im = imread(fnames[0])"
   ]
  },
  {
   "cell_type": "code",
   "execution_count": null,
   "metadata": {
    "collapsed": true
   },
   "outputs": [],
   "source": [
    "X = []\n",
    "X.append(np.transpose(im, [2,0,1]))\n",
    "X.append(None)\n",
    "X.append(np.transpose(im, [2,0,1]))\n",
    "X.append(None)"
   ]
  },
  {
   "cell_type": "code",
   "execution_count": null,
   "metadata": {
    "collapsed": false
   },
   "outputs": [],
   "source": [
    "np.array(X).shape"
   ]
  },
  {
   "cell_type": "code",
   "execution_count": null,
   "metadata": {
    "collapsed": false
   },
   "outputs": [],
   "source": [
    "plt.imshow(imread('/home/arya_03/data/concat/data/0/bb008b9e367f001837b3adabb2b46323.jpg'))"
   ]
  },
  {
   "cell_type": "code",
   "execution_count": null,
   "metadata": {
    "collapsed": true
   },
   "outputs": [],
   "source": []
  },
  {
   "cell_type": "code",
   "execution_count": null,
   "metadata": {
    "collapsed": true
   },
   "outputs": [],
   "source": []
  },
  {
   "cell_type": "code",
   "execution_count": null,
   "metadata": {
    "collapsed": true
   },
   "outputs": [],
   "source": []
  },
  {
   "cell_type": "code",
   "execution_count": null,
   "metadata": {
    "collapsed": true
   },
   "outputs": [],
   "source": []
  },
  {
   "cell_type": "code",
   "execution_count": null,
   "metadata": {
    "collapsed": true
   },
   "outputs": [],
   "source": []
  },
  {
   "cell_type": "code",
   "execution_count": null,
   "metadata": {
    "collapsed": true
   },
   "outputs": [],
   "source": []
  },
  {
   "cell_type": "code",
   "execution_count": null,
   "metadata": {
    "collapsed": true
   },
   "outputs": [],
   "source": []
  },
  {
   "cell_type": "code",
   "execution_count": null,
   "metadata": {
    "collapsed": true
   },
   "outputs": [],
   "source": []
  }
 ],
 "metadata": {
  "kernelspec": {
   "display_name": "Python 2",
   "language": "python",
   "name": "python2"
  },
  "language_info": {
   "codemirror_mode": {
    "name": "ipython",
    "version": 2
   },
   "file_extension": ".py",
   "mimetype": "text/x-python",
   "name": "python",
   "nbconvert_exporter": "python",
   "pygments_lexer": "ipython2",
   "version": "2.7.6"
  }
 },
 "nbformat": 4,
 "nbformat_minor": 0
}
